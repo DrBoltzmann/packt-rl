{
 "cells": [
  {
   "cell_type": "markdown",
   "metadata": {},
   "source": [
    "# Solving `CartPole`\n",
    "\n",
    "#### Your task:\n",
    "\n",
    "\n",
    "Solve the `CartPole` environment. Which algorithms could you use? As a warm-up, implement first SARSA or Q-Learning in `FrozenLake`. \n",
    "\n",
    "Some starter code is below. Note that if you want to use these algorithms for `CartPole` you need to discretize the state space somehow.   "
   ]
  },
  {
   "cell_type": "code",
   "execution_count": 1,
   "metadata": {},
   "outputs": [],
   "source": [
    "%matplotlib inline\n",
    "import matplotlib.pyplot as plt\n",
    "import numpy as np\n",
    "import gym\n",
    "import math"
   ]
  },
  {
   "cell_type": "markdown",
   "metadata": {},
   "source": [
    "### How could you know how to discretize?\n",
    "\n",
    "You can try to sample some elements from the observation space (=state space). Then discretize based on that."
   ]
  },
  {
   "cell_type": "code",
   "execution_count": 2,
   "metadata": {},
   "outputs": [
    {
     "name": "stdout",
     "output_type": "stream",
     "text": [
      "\u001b[33mWARN: gym.spaces.Box autodetected dtype as <class 'numpy.float32'>. Please provide explicit dtype.\u001b[0m\n"
     ]
    }
   ],
   "source": [
    "cp_env = gym.make('CartPole-v0')\n",
    "cp_obs = [cp_env.observation_space.sample() for _ in range(10000)]"
   ]
  },
  {
   "cell_type": "code",
   "execution_count": 3,
   "metadata": {},
   "outputs": [
    {
     "data": {
      "text/plain": [
       "Text(0.5,1,'Observation x')"
      ]
     },
     "execution_count": 3,
     "metadata": {},
     "output_type": "execute_result"
    },
    {
     "data": {
      "image/png": "[encoded data removed]",
      "text/plain": [
       "<matplotlib.figure.Figure at 0x1a10d2e6710>"
      ]
     },
     "metadata": {},
     "output_type": "display_data"
    }
   ],
   "source": [
    "plt.hist([ob[0] for ob in cp_obs] )\n",
    "plt.title(\"Observation x\")"
   ]
  },
  {
   "cell_type": "code",
   "execution_count": 4,
   "metadata": {},
   "outputs": [
    {
     "data": {
      "text/plain": [
       "Text(0.5,1,'Observation x_dot')"
      ]
     },
     "execution_count": 4,
     "metadata": {},
     "output_type": "execute_result"
    },
    {
     "data": {
      "image/png": "[encoded data removed]",
      "text/plain": [
       "<matplotlib.figure.Figure at 0x1a10f45c6a0>"
      ]
     },
     "metadata": {},
     "output_type": "display_data"
    }
   ],
   "source": [
    "plt.hist([ob[1] for ob in cp_obs] )\n",
    "plt.title(\"Observation x_dot\")"
   ]
  },
  {
   "cell_type": "code",
   "execution_count": 5,
   "metadata": {},
   "outputs": [
    {
     "data": {
      "text/plain": [
       "Text(0.5,1,'Observation theta')"
      ]
     },
     "execution_count": 5,
     "metadata": {},
     "output_type": "execute_result"
    },
    {
     "data": {
      "image/png": "[encoded data removed]",
      "text/plain": [
       "<matplotlib.figure.Figure at 0x1a10d3d1e80>"
      ]
     },
     "metadata": {},
     "output_type": "display_data"
    }
   ],
   "source": [
    "plt.hist([ob[2] for ob in cp_obs] )\n",
    "plt.title(\"Observation theta\")"
   ]
  },
  {
   "cell_type": "code",
   "execution_count": 6,
   "metadata": {},
   "outputs": [
    {
     "data": {
      "text/plain": [
       "Text(0.5,1,'Observation theta_dot')"
      ]
     },
     "execution_count": 6,
     "metadata": {},
     "output_type": "execute_result"
    },
    {
     "data": {
      "image/png": "[encoded data removed]",
      "text/plain": [
       "<matplotlib.figure.Figure at 0x1a10f549400>"
      ]
     },
     "metadata": {},
     "output_type": "display_data"
    }
   ],
   "source": [
    "plt.hist([ob[3] for ob in cp_obs] )\n",
    "plt.title(\"Observation theta_dot\")"
   ]
  },
  {
   "cell_type": "markdown",
   "metadata": {},
   "source": [
    "Then, we define some limit for the borders."
   ]
  },
  {
   "cell_type": "code",
   "execution_count": 7,
   "metadata": {},
   "outputs": [],
   "source": [
    "STATE_BOUNDS = list(zip(cp_env.observation_space.low, cp_env.observation_space.high))\n",
    "STATE_BOUNDS[1] = [-0.5, 0.5]\n",
    "STATE_BOUNDS[3] = [-math.radians(50), math.radians(50)]\n",
    "NUM_BUCKETS = (3,3,3,3) # state:n_bins pairs"
   ]
  },
  {
   "cell_type": "code",
   "execution_count": 8,
   "metadata": {},
   "outputs": [],
   "source": [
    "def obs_to_state(obs):\n",
    "    bucket_indice = []\n",
    "    for i in range(len(obs)):\n",
    "        if obs[i] <= STATE_BOUNDS[i][0]:\n",
    "            bucket_index = 0\n",
    "        elif obs[i] >= STATE_BOUNDS[i][1]:\n",
    "            bucket_index = NUM_BUCKETS[i] - 1\n",
    "        else:\n",
    "            # Mapping the state bounds to the bucket array\n",
    "            bound_width = STATE_BOUNDS[i][1] - STATE_BOUNDS[i][0]\n",
    "            offset = (NUM_BUCKETS[i]-1)*STATE_BOUNDS[i][0]/bound_width\n",
    "            scaling = (NUM_BUCKETS[i]-1)/bound_width\n",
    "            bucket_index = int(round(scaling*obs[i] - offset))\n",
    "        bucket_indice.append(bucket_index)\n",
    "    return tuple(bucket_indice)"
   ]
  },
  {
   "cell_type": "code",
   "execution_count": 9,
   "metadata": {},
   "outputs": [
    {
     "name": "stdout",
     "output_type": "stream",
     "text": [
      "\u001b[33mWARN: gym.spaces.Box autodetected dtype as <class 'numpy.float32'>. Please provide explicit dtype.\u001b[0m\n",
      "Number of episodes: 100 . Average 100-episode reward: 26.05\n"
     ]
    },
    {
     "name": "stderr",
     "output_type": "stream",
     "text": [
      "c:\\users\\hp\\anaconda3\\lib\\site-packages\\ipykernel_launcher.py:10: RuntimeWarning: overflow encountered in float_scalars\n",
      "  # Remove the CWD from sys.path while we load stuff.\n"
     ]
    },
    {
     "name": "stdout",
     "output_type": "stream",
     "text": [
      "Number of episodes: 200 . Average 100-episode reward: 23.89\n",
      "Number of episodes: 300 . Average 100-episode reward: 26.79\n",
      "Number of episodes: 400 . Average 100-episode reward: 27.25\n",
      "Number of episodes: 500 . Average 100-episode reward: 31.1\n",
      "Number of episodes: 600 . Average 100-episode reward: 32.75\n",
      "Number of episodes: 700 . Average 100-episode reward: 31.96\n",
      "Number of episodes: 800 . Average 100-episode reward: 36.8\n",
      "Number of episodes: 900 . Average 100-episode reward: 34.95\n",
      "Number of episodes: 1000 . Average 100-episode reward: 36.04\n",
      "Number of episodes: 1100 . Average 100-episode reward: 36.04\n",
      "Number of episodes: 1200 . Average 100-episode reward: 32.65\n",
      "Number of episodes: 1300 . Average 100-episode reward: 39.72\n",
      "Number of episodes: 1400 . Average 100-episode reward: 38.53\n",
      "Number of episodes: 1500 . Average 100-episode reward: 38.63\n",
      "Number of episodes: 1600 . Average 100-episode reward: 35.31\n",
      "Number of episodes: 1700 . Average 100-episode reward: 38.37\n",
      "Number of episodes: 1800 . Average 100-episode reward: 36.48\n",
      "Number of episodes: 1900 . Average 100-episode reward: 37.19\n",
      "Number of episodes: 2000 . Average 100-episode reward: 37.73\n"
     ]
    }
   ],
   "source": [
    "def epsilon_greedy_policy(Q, epsilon, actions):\n",
    "    \"\"\" Q is a numpy array, epsilon between 0,1 \n",
    "    and a list of actions\"\"\"\n",
    "    \n",
    "    def policy_fn(state):\n",
    "        if np.random.rand()>epsilon and np.max(Q[state])>0: #avoid getting stuck in the initial step\n",
    "            action = np.argmax(Q[state])\n",
    "        else:\n",
    "            action = np.random.choice(actions)\n",
    "        return action\n",
    "    return policy_fn\n",
    "\n",
    "\n",
    "env = gym.make(\"CartPole-v0\")\n",
    "n_episodes = 2000\n",
    "alpha = 0.1\n",
    "gamma = 0.99\n",
    "\n",
    "# Initialization\n",
    "Q = np.zeros(NUM_BUCKETS+(env.action_space.n,))\n",
    "\n",
    "actions = range(env.action_space.n)\n",
    "\n",
    "score = []    \n",
    "for ep in range(n_episodes):\n",
    "    done = False\n",
    "    \n",
    "    obs = env.reset()\n",
    "    state = obs_to_state(obs)\n",
    "    \n",
    "    policy = epsilon_greedy_policy(Q, epsilon=100./(ep+1), actions = actions )\n",
    "    \n",
    "    \n",
    "    ### Generate sample episode\n",
    "    \n",
    "    t = 0\n",
    "    ep_reward = 0\n",
    "    \n",
    "    while not done:\n",
    "\n",
    "        action = policy(state)    \n",
    "        new_obs, reward, done, _ =  env.step(action)\n",
    "        new_state = obs_to_state(new_obs)\n",
    "        \n",
    "        if done:\n",
    "            Q[state+(action,)] = Q[state+(action,)] + alpha*(reward - Q[state+(action,)])\n",
    "        else:\n",
    "            Q[state+(action,)] = Q[state+(action,)] + alpha*(reward + gamma*np.max(Q[new_state]) - Q[state+(action,)])\n",
    "        \n",
    "        \n",
    "        # Update rewards and state. Remember that CartPole is an on-going task!\n",
    "        ep_reward += reward\n",
    "        state = new_state \n",
    "        \n",
    "        if done:\n",
    "            if len(score) < 100:\n",
    "                score.append(ep_reward)\n",
    "            else:\n",
    "                score[ep % 100] = ep_reward\n",
    "                \n",
    "            if (ep+1) % 100 == 0:\n",
    "                print(\"Number of episodes: {} . Average 100-episode reward: {}\".format(ep+1, np.mean(score)))\n",
    "           "
   ]
  }
 ],
 "metadata": {
  "kernelspec": {
   "display_name": "Python 3",
   "language": "python",
   "name": "python3"
  },
  "language_info": {
   "codemirror_mode": {
    "name": "ipython",
    "version": 3
   },
   "file_extension": ".py",
   "mimetype": "text/x-python",
   "name": "python",
   "nbconvert_exporter": "python",
   "pygments_lexer": "ipython3",
   "version": "3.6.4"
  }
 },
 "nbformat": 4,
 "nbformat_minor": 2
}
